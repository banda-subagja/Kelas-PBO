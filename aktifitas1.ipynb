{
 "cells": [
  {
   "cell_type": "code",
   "execution_count": 1,
   "metadata": {},
   "outputs": [
    {
     "name": "stdout",
     "output_type": "stream",
     "text": [
      "masukkan nama Anda: banda\n",
      "\n",
      "======INPUT DAN OUTPUT PADA BAHASA PEMROGRAMAN PYTHON======\n",
      "nama Anda:  banda\n",
      "umur Anda:  19\n",
      "\n"
     ]
    }
   ],
   "source": [
    "#INPUT\n",
    "\n",
    "nama=input(\"masukkan nama Anda: \")\n",
    "umur=19\n",
    "\n",
    "#OUTPUT\n",
    "print(\"\")\n",
    "print(\"======INPUT DAN OUTPUT PADA BAHASA PEMROGRAMAN PYTHON======\")\n",
    "print(\"nama Anda: \", nama)\n",
    "print(\"umur Anda: \", umur)\n",
    "print(\"\")"
   ]
  },
  {
   "cell_type": "code",
   "execution_count": null,
   "metadata": {},
   "outputs": [],
   "source": []
  }
 ],
 "metadata": {
  "kernelspec": {
   "display_name": "Python 3",
   "language": "python",
   "name": "python3"
  },
  "language_info": {
   "codemirror_mode": {
    "name": "ipython",
    "version": 3
   },
   "file_extension": ".py",
   "mimetype": "text/x-python",
   "name": "python",
   "nbconvert_exporter": "python",
   "pygments_lexer": "ipython3",
   "version": "3.8.5"
  }
 },
 "nbformat": 4,
 "nbformat_minor": 4
}
